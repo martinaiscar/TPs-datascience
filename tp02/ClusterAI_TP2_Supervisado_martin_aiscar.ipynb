{
 "cells": [
  {
   "cell_type": "markdown",
   "metadata": {
    "id": "P3ANPsbtkuXj"
   },
   "source": [
    "## **Trabajo Práctico Individual n° 2: Aprendizaje Supervisado**\n",
    "____\n",
    "__Universidad Tecnológica Nacional, Buenos Aires__\\\n",
    "__Ingeniería Industrial__\\\n",
    "__Ciencia de Datos - Curso I5521__\n",
    "____"
   ]
  },
  {
   "cell_type": "markdown",
   "metadata": {
    "id": "cTPsPHb_lWTE"
   },
   "source": [
    "- Nombre: Martin \n",
    "- Apellido: Aiscar\n",
    "- Legajo: 163548-7"
   ]
  },
  {
   "cell_type": "markdown",
   "metadata": {
    "id": "E5W-65MskuXx"
   },
   "source": [
    "En este trabajo práctico aplicaremos algunas técnicas aprendidas para el aprendizaje automático supervisado.\n",
    "\n",
    "Utilizaremos un dataset de airbnb donde buscaremos predecir el precio de las noches de cada hogar en funcion de algunas variables."
   ]
  },
  {
   "cell_type": "markdown",
   "metadata": {
    "id": "mKUpHSLqkuXz"
   },
   "source": [
    "#### Variables:\n",
    "- Unnamed: 0: Variable de contador de registros (no será utilizada en nuetro análisis)\n",
    "- neighbourhood: Barrio donde se encuentra ubicado la casa.\n",
    "- room_type: Tipo de hogar en alquiler.\n",
    "- price: Precio por noche.\n",
    "- minimum_nights: Cantidad minimas de noches que pueden alquilar el hogar.\n",
    "- number_of_reviews: Cantidad de reviews\n",
    "- reviews_per_month: Tasa de reviews que tienen por mes\n",
    "- calculated_host_listings_count: Cantidad de hogares ofrecidos por el host.\n",
    "- availability_365: Cantidad de dias que se encuentra en alquiler el hogar"
   ]
  },
  {
   "cell_type": "markdown",
   "metadata": {
    "id": "hWk9Vqs8l5jg"
   },
   "source": [
    "## **Objetivos del trabajo practico**\n",
    "- resolver los requisitos que se detallan en las proximas celdas\n",
    "- dejar comentarios # en cada linea de codigo que se agregue\n",
    "- fecha limite de entrega: 13 de Octubre 2022 a las 23h59"
   ]
  },
  {
   "cell_type": "code",
   "execution_count": null,
   "metadata": {
    "id": "7VzMW3fvkuX0"
   },
   "outputs": [],
   "source": [
    "## Importo librerías de maniupulación de datos\n",
    "import pandas as pd\n",
    "import numpy as np\n",
    "import seaborn as sns\n",
    "import matplotlib.pyplot as plt"
   ]
  },
  {
   "cell_type": "code",
   "execution_count": null,
   "metadata": {
    "id": "NFgDAUVLNfhE"
   },
   "outputs": [],
   "source": [
    "## Importo librerías de Aprendizaje automático\n",
    "from sklearn import preprocessing\n",
    "from sklearn import linear_model\n",
    "from sklearn.model_selection import train_test_split, cross_val_score\n",
    "from sklearn.metrics import r2_score, mean_squared_error\n",
    "from sklearn.utils import shuffle\n",
    "from sklearn.preprocessing import StandardScaler\n",
    "from sklearn import preprocessing\n",
    "from sklearn.preprocessing import LabelEncoder\n",
    "from sklearn.linear_model import LinearRegression\n",
    "from sklearn.svm import SVR, LinearSVR\n",
    "from sklearn.metrics import mean_squared_error, make_scorer\n",
    "from sklearn.model_selection import GridSearchCV"
   ]
  },
  {
   "cell_type": "markdown",
   "metadata": {
    "id": "v7h4SOeAkuX4"
   },
   "source": [
    "##### **Objetivo 1**\n",
    "Lo primero que deberan hacer será importar\n",
    "- el dataset bajo en nombre \"london\"\n",
    "- corroborar que lo hayamos cargado correctamente."
   ]
  },
  {
   "cell_type": "code",
   "execution_count": null,
   "metadata": {
    "id": "2EOIgMedmgBM"
   },
   "outputs": [],
   "source": []
  },
  {
   "cell_type": "markdown",
   "metadata": {
    "id": "LFZY1u8XkuX5"
   },
   "source": [
    "##### **Objetivo 2**\n",
    "Ahora imprimir también las dimensiones del dataset y eliminar la variable \"Unnamed:0\" del dataset.\n",
    "Volver a guardar el dataset sin esta variable bajo el nombre \"london\" "
   ]
  },
  {
   "cell_type": "code",
   "execution_count": null,
   "metadata": {
    "id": "V6WzWe1JkuX7"
   },
   "outputs": [],
   "source": []
  },
  {
   "cell_type": "markdown",
   "metadata": {
    "id": "i6rbeiRvkuX8"
   },
   "source": [
    "##### **Objetivo 3**\n",
    "Corroborar que el dataset no cuenta con valores nulos, si los hubiera llenarlos todos con 0."
   ]
  },
  {
   "cell_type": "code",
   "execution_count": null,
   "metadata": {
    "id": "huJVDzyTkuX8"
   },
   "outputs": [],
   "source": []
  },
  {
   "cell_type": "markdown",
   "metadata": {
    "id": "J5K3hnLhkuX9"
   },
   "source": [
    "##### **Objetivo 4**\n",
    "Mostrar el tipo de dato para las variables \"neighbourhood\" y \"room_type\"."
   ]
  },
  {
   "cell_type": "code",
   "execution_count": null,
   "metadata": {
    "id": "buyjxSDNkuX-"
   },
   "outputs": [],
   "source": []
  },
  {
   "cell_type": "markdown",
   "metadata": {
    "id": "-Pif7gnqkuX-"
   },
   "source": [
    "##### **Objetivo 5**\n",
    "Generar las variables dummies para estas dos variables categóricas y unirlas al dataset london.\n"
   ]
  },
  {
   "cell_type": "code",
   "execution_count": null,
   "metadata": {
    "id": "WQ2GszPKNfhI"
   },
   "outputs": [],
   "source": [
    "## Genero las dummies para la variable neighbourhood, dentro de la variable neigh_dummies.\n",
    "neigh_dummies = "
   ]
  },
  {
   "cell_type": "markdown",
   "metadata": {
    "id": "D9raTKcGNfhJ"
   },
   "source": [
    "Imprimir las dimensiones y primeras lineas de estas dummies"
   ]
  },
  {
   "cell_type": "code",
   "execution_count": null,
   "metadata": {
    "id": "x5aYhwWcNfhJ"
   },
   "outputs": [],
   "source": []
  },
  {
   "cell_type": "code",
   "execution_count": null,
   "metadata": {
    "id": "ehoVgr9NNfhJ"
   },
   "outputs": [],
   "source": []
  },
  {
   "cell_type": "code",
   "execution_count": null,
   "metadata": {
    "id": "qdGPJ4tONfhJ"
   },
   "outputs": [],
   "source": [
    "## Genero las dummies para la variable room_type, dentro de la variable room_dummies.\n",
    "room_dummies ="
   ]
  },
  {
   "cell_type": "markdown",
   "metadata": {
    "id": "lDHhvq4_NfhJ"
   },
   "source": [
    "Imprimir las dimensiones y primeras lineas de estas dummies"
   ]
  },
  {
   "cell_type": "code",
   "execution_count": null,
   "metadata": {
    "id": "ssP3nFUcNfhJ"
   },
   "outputs": [],
   "source": []
  },
  {
   "cell_type": "code",
   "execution_count": null,
   "metadata": {
    "id": "jmB-t-3hNfhK"
   },
   "outputs": [],
   "source": []
  },
  {
   "cell_type": "markdown",
   "metadata": {
    "id": "c8CG_MEdkuX-"
   },
   "source": [
    "Joinear las variables dummies al dataset\n",
    "\n"
   ]
  },
  {
   "cell_type": "code",
   "execution_count": null,
   "metadata": {
    "id": "3Q0w7z_uNfhK"
   },
   "outputs": [],
   "source": [
    "london = london.join(room_dummies,neigh_dummies)"
   ]
  },
  {
   "cell_type": "markdown",
   "metadata": {
    "id": "qjPPQtG6kuX_"
   },
   "source": [
    "##### Dividiremos nuestro dataset en la variable dependiente \"y\" (label o etiqueta) y las variables independientes \"x\""
   ]
  },
  {
   "cell_type": "code",
   "execution_count": null,
   "metadata": {
    "id": "1TZWtiVTkuX_"
   },
   "outputs": [],
   "source": [
    "\n",
    "y = np.array(london[[\"price\"]])\n",
    "x = london.drop(['price', 'neighbourhood','room_type'], axis=1)"
   ]
  },
  {
   "cell_type": "markdown",
   "metadata": {
    "id": "s-2ujF5MkuYA"
   },
   "source": [
    "##### **Objetivo 7**\n",
    "\n",
    "Dividir el dataset entre Train y Test, tomar un test_size del 30%."
   ]
  },
  {
   "cell_type": "code",
   "execution_count": null,
   "metadata": {
    "id": "SBepVVKIkuYA"
   },
   "outputs": [],
   "source": []
  },
  {
   "cell_type": "markdown",
   "metadata": {
    "id": "mfDnVu6hkuYB"
   },
   "source": [
    "##### **Objetivo 8**\n",
    "Con el StandardScaler generado en la linea siguiente, realizar el transform para el xtrain y xtest guardandolos en nuevas variables llamadas \"xtrain_scal\" y \"xtest_scal\".\n"
   ]
  },
  {
   "cell_type": "code",
   "execution_count": null,
   "metadata": {
    "id": "QgDYMr1qNfhL"
   },
   "outputs": [],
   "source": [
    "scaler = preprocessing.StandardScaler().fit(xtrain)"
   ]
  },
  {
   "cell_type": "code",
   "execution_count": null,
   "metadata": {
    "id": "PTdTOdUANfhL"
   },
   "outputs": [],
   "source": [
    "xtrain_scal = "
   ]
  },
  {
   "cell_type": "code",
   "execution_count": null,
   "metadata": {
    "id": "xJX0JJI7kuYC"
   },
   "outputs": [],
   "source": [
    "xtest_scal = "
   ]
  },
  {
   "cell_type": "markdown",
   "metadata": {
    "id": "_hkXK5_ckuYC"
   },
   "source": [
    "##### **Objetivo 9**\n",
    "Crear un modelo lineal y entrenarlo para nuestro dataset.\n",
    "\n",
    "Obtener las predicciones y el \"mean_squared_error\" para el test set."
   ]
  },
  {
   "cell_type": "code",
   "execution_count": null,
   "metadata": {
    "id": "60x_-aowNfhM"
   },
   "outputs": [],
   "source": []
  },
  {
   "cell_type": "code",
   "execution_count": null,
   "metadata": {
    "id": "CNBZVUxjNfhM"
   },
   "outputs": [],
   "source": []
  },
  {
   "cell_type": "code",
   "execution_count": null,
   "metadata": {
    "id": "P8am8EVokuYD"
   },
   "outputs": [],
   "source": []
  },
  {
   "cell_type": "markdown",
   "metadata": {
    "id": "yQpkINPIkuYD"
   },
   "source": [
    "##### **Objetivo 10**\n",
    "Crear un SVM Regressor y un GridSearch para realizar la búsqueda de hiperparámetros.\n",
    "\n",
    "Asignar dos posibles valores para el parámetro \"kernel\", y tres posibles valores para \"C\" y \"gamma\".\n",
    "\n",
    "Setear al parámetro \"refit\" en True y hacer 5 CrossValidation."
   ]
  },
  {
   "cell_type": "code",
   "execution_count": null,
   "metadata": {
    "id": "cyh2r-iJNfhM"
   },
   "outputs": [],
   "source": []
  },
  {
   "cell_type": "code",
   "execution_count": null,
   "metadata": {
    "id": "JK2ZKv6ONfhM"
   },
   "outputs": [],
   "source": []
  },
  {
   "cell_type": "code",
   "execution_count": null,
   "metadata": {
    "id": "7CD4cIYUkuYE"
   },
   "outputs": [],
   "source": []
  },
  {
   "cell_type": "markdown",
   "metadata": {
    "id": "YOuBv_mfkuYG"
   },
   "source": [
    "##### **Objetivo 11**\n",
    "\n",
    "Mostrar cuales fueron los mejores hiperparámetros y para estos obtener el mean_squared_error en el test set."
   ]
  },
  {
   "cell_type": "code",
   "execution_count": null,
   "metadata": {
    "id": "HHwCIS0mNfhN"
   },
   "outputs": [],
   "source": []
  },
  {
   "cell_type": "code",
   "execution_count": null,
   "metadata": {
    "id": "vlMZBccQNfhN"
   },
   "outputs": [],
   "source": []
  },
  {
   "cell_type": "code",
   "execution_count": null,
   "metadata": {
    "id": "fc8mozfEkuYH"
   },
   "outputs": [],
   "source": []
  },
  {
   "cell_type": "markdown",
   "metadata": {
    "id": "IJQSlAT_kuYH"
   },
   "source": [
    "##### **Objetivo 12**\n",
    "Repetir el objetivo 10 pero ahora seteando nuevos valores para los hiperparámetros mencionados con el objetivo de mejorar las predicciones.\n",
    "\n",
    "Cuales son los mejores hiperparámetros ahora?\n",
    "Obtenemos una mejora en las predicciones?\n",
    "Mostrar los resultados."
   ]
  },
  {
   "cell_type": "code",
   "execution_count": null,
   "metadata": {
    "id": "LmYGwWhokuYI"
   },
   "outputs": [],
   "source": []
  },
  {
   "cell_type": "code",
   "execution_count": null,
   "metadata": {
    "id": "WyMHn-XYn5Uv"
   },
   "outputs": [],
   "source": []
  },
  {
   "cell_type": "code",
   "execution_count": null,
   "metadata": {
    "id": "GyUOMDd7kuYI"
   },
   "outputs": [],
   "source": []
  },
  {
   "cell_type": "code",
   "execution_count": null,
   "metadata": {
    "id": "ZJ0-nJNHkuYJ"
   },
   "outputs": [],
   "source": []
  }
 ],
 "metadata": {
  "colab": {
   "provenance": []
  },
  "kernelspec": {
   "display_name": "Python 3 (ipykernel)",
   "language": "python",
   "name": "python3"
  },
  "language_info": {
   "codemirror_mode": {
    "name": "ipython",
    "version": 3
   },
   "file_extension": ".py",
   "mimetype": "text/x-python",
   "name": "python",
   "nbconvert_exporter": "python",
   "pygments_lexer": "ipython3",
   "version": "3.9.12"
  },
  "vscode": {
   "interpreter": {
    "hash": "c63d8c7d738c2960218a10995aedf0a7f67a49a231e71037adf0440953cdb45b"
   }
  }
 },
 "nbformat": 4,
 "nbformat_minor": 1
}
